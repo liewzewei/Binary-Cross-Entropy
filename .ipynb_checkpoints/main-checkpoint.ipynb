{
 "cells": [
  {
   "cell_type": "markdown",
   "id": "5931abc7-f56f-48e9-9499-a76cbde6c9b5",
   "metadata": {},
   "source": [
    "# Binary Cross-Entropy\n",
    "The log loss, or binary cross entropy, is given by the following function.\n",
    "$$\\text{BCE}=-y\\log{\\left(\\sigma(z)\\right)}-(1-y)\\log{\\left(1-\\sigma(z)\\right)}$$\n",
    "Generate a colour map that shows how the log loss, aka Binary Cross Entropy (BCE), vary with different probabilities, $\\sigma(z)$, for a given label $y$."
   ]
  },
  {
   "cell_type": "code",
   "execution_count": 5,
   "id": "f47aad7e-4948-45e4-9262-4f4e39fe7102",
   "metadata": {},
   "outputs": [],
   "source": [
    "import matplotlib.pyplot as plt\n",
    "import numpy as np\n",
    "import math"
   ]
  },
  {
   "cell_type": "code",
   "execution_count": 6,
   "id": "187bd0a3-2d5f-411a-b0e3-e0d6508d2103",
   "metadata": {},
   "outputs": [],
   "source": [
    "def binaryCrossEntropy(label,probability):\n",
    "    y = label\n",
    "    x = probability\n",
    "    BCE = -y*math.log(x)-(1-y)*math.log(1-x)\n",
    "    return BCE"
   ]
  },
  {
   "cell_type": "code",
   "execution_count": null,
   "id": "654c4b85-eace-4a00-8aeb-eb1879426e2c",
   "metadata": {},
   "outputs": [],
   "source": [
    "def colorMap(BCE"
   ]
  }
 ],
 "metadata": {
  "kernelspec": {
   "display_name": "Python 3 (ipykernel)",
   "language": "python",
   "name": "python3"
  },
  "language_info": {
   "codemirror_mode": {
    "name": "ipython",
    "version": 3
   },
   "file_extension": ".py",
   "mimetype": "text/x-python",
   "name": "python",
   "nbconvert_exporter": "python",
   "pygments_lexer": "ipython3",
   "version": "3.13.2"
  }
 },
 "nbformat": 4,
 "nbformat_minor": 5
}
