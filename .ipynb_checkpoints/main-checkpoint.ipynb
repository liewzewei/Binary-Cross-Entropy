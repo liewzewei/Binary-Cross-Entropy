{
 "cells": [
  {
   "cell_type": "markdown",
   "id": "5931abc7-f56f-48e9-9499-a76cbde6c9b5",
   "metadata": {},
   "source": [
    "# Binary Cross-Entropy\n",
    "The log loss, or binary cross entropy, is given by the following function.\n",
    "$$\\text{BCE}=-y\\log{\\left(\\sigma(z)\\right)}-(1-y)\\log{\\left(1-\\sigma(z)\\right)}$$\n",
    "Generate a colour map that shows how the log loss, aka Binary Cross Entropy (BCE), vary with different probabilities, $\\sigma(z)$, for a given label $y$."
   ]
  },
  {
   "cell_type": "code",
   "execution_count": 85,
   "id": "f47aad7e-4948-45e4-9262-4f4e39fe7102",
   "metadata": {},
   "outputs": [],
   "source": [
    "import matplotlib.pyplot as plt\n",
    "import numpy as np\n",
    "import cv2 as cv\n",
    "import math\n",
    "from IPython.display import Image\n",
    "%matplotlib inline"
   ]
  },
  {
   "cell_type": "code",
   "execution_count": 136,
   "id": "187bd0a3-2d5f-411a-b0e3-e0d6508d2103",
   "metadata": {},
   "outputs": [],
   "source": [
    "def binaryCrossEntropy(label,probability):\n",
    "    y = label\n",
    "    x = probability\n",
    "    loss = -y*math.log(x,10)-(1-y)*math.log(1-x,10)\n",
    "    return loss"
   ]
  },
  {
   "cell_type": "code",
   "execution_count": 137,
   "id": "654c4b85-eace-4a00-8aeb-eb1879426e2c",
   "metadata": {},
   "outputs": [],
   "source": [
    "def colorMap(loss):\n",
    "    arr = np.zeros(3)\n",
    "    r = loss/3\n",
    "    g = 1-loss/3\n",
    "    #the divisor is 3 as we set the maximum of σ(z) as 0.999, and its minimum as 0.001\n",
    "    arr[0] = r\n",
    "    arr[1] = g\n",
    "    return arr"
   ]
  },
  {
   "cell_type": "code",
   "execution_count": 150,
   "id": "ac41b9c9-7436-4a5d-9574-bd683faf1be8",
   "metadata": {},
   "outputs": [
    {
     "data": {
      "text/plain": [
       "array([0.5, 0.5, 0. ])"
      ]
     },
     "execution_count": 150,
     "metadata": {},
     "output_type": "execute_result"
    }
   ],
   "source": [
    "colorMap(1.5)"
   ]
  },
  {
   "cell_type": "code",
   "execution_count": 139,
   "id": "7388b4c2-1c10-40c9-948b-7317d1b0028f",
   "metadata": {},
   "outputs": [],
   "source": [
    "nColumns = 100\n",
    "label = 1"
   ]
  },
  {
   "cell_type": "code",
   "execution_count": 140,
   "id": "a47a95a8-f7d5-4424-b5de-252cf9472a0c",
   "metadata": {},
   "outputs": [],
   "source": [
    "probability = np.zeros(nColumns)\n",
    "for i in range(nColumns):\n",
    "    probability[i]=1/nColumns*(i+1)-(1/nColumns)/2"
   ]
  },
  {
   "cell_type": "code",
   "execution_count": 141,
   "id": "ce5ebc5f-610a-4288-a540-1bf2a9a42980",
   "metadata": {},
   "outputs": [
    {
     "data": {
      "text/plain": [
       "array([0.005, 0.015, 0.025, 0.035, 0.045, 0.055, 0.065, 0.075, 0.085,\n",
       "       0.095, 0.105, 0.115, 0.125, 0.135, 0.145, 0.155, 0.165, 0.175,\n",
       "       0.185, 0.195, 0.205, 0.215, 0.225, 0.235, 0.245, 0.255, 0.265,\n",
       "       0.275, 0.285, 0.295, 0.305, 0.315, 0.325, 0.335, 0.345, 0.355,\n",
       "       0.365, 0.375, 0.385, 0.395, 0.405, 0.415, 0.425, 0.435, 0.445,\n",
       "       0.455, 0.465, 0.475, 0.485, 0.495, 0.505, 0.515, 0.525, 0.535,\n",
       "       0.545, 0.555, 0.565, 0.575, 0.585, 0.595, 0.605, 0.615, 0.625,\n",
       "       0.635, 0.645, 0.655, 0.665, 0.675, 0.685, 0.695, 0.705, 0.715,\n",
       "       0.725, 0.735, 0.745, 0.755, 0.765, 0.775, 0.785, 0.795, 0.805,\n",
       "       0.815, 0.825, 0.835, 0.845, 0.855, 0.865, 0.875, 0.885, 0.895,\n",
       "       0.905, 0.915, 0.925, 0.935, 0.945, 0.955, 0.965, 0.975, 0.985,\n",
       "       0.995])"
      ]
     },
     "execution_count": 141,
     "metadata": {},
     "output_type": "execute_result"
    }
   ],
   "source": [
    "probability"
   ]
  },
  {
   "cell_type": "code",
   "execution_count": 142,
   "id": "bea13e94-5481-43f3-9ee1-70d8652167c7",
   "metadata": {},
   "outputs": [],
   "source": [
    "loss_array = np.zeros(probability.size)\n",
    "for j in range(probability.size):\n",
    "    loss_array[j]=binaryCrossEntropy(label,probability[j])"
   ]
  },
  {
   "cell_type": "code",
   "execution_count": 143,
   "id": "0dcc7c92-8022-4a67-b8ea-22a5ebeaacbb",
   "metadata": {},
   "outputs": [
    {
     "data": {
      "text/plain": [
       "array([2.30103000e+00, 1.82390874e+00, 1.60205999e+00, 1.45593196e+00,\n",
       "       1.34678749e+00, 1.25963731e+00, 1.18708664e+00, 1.12493874e+00,\n",
       "       1.07058107e+00, 1.02227639e+00, 9.78810701e-01, 9.39302160e-01,\n",
       "       9.03089987e-01, 8.69666232e-01, 8.38631998e-01, 8.09668302e-01,\n",
       "       7.82516056e-01, 7.56961951e-01, 7.32828272e-01, 7.09965389e-01,\n",
       "       6.88246139e-01, 6.67561540e-01, 6.47817482e-01, 6.28932138e-01,\n",
       "       6.10833916e-01, 5.93459820e-01, 5.76754126e-01, 5.60667306e-01,\n",
       "       5.45155140e-01, 5.30177984e-01, 5.15700161e-01, 5.01689446e-01,\n",
       "       4.88116639e-01, 4.74955193e-01, 4.62180905e-01, 4.49771647e-01,\n",
       "       4.37707136e-01, 4.25968732e-01, 4.14539270e-01, 4.03402904e-01,\n",
       "       3.92544977e-01, 3.81951903e-01, 3.71611070e-01, 3.61510743e-01,\n",
       "       3.51639989e-01, 3.41988603e-01, 3.32547047e-01, 3.23306390e-01,\n",
       "       3.14258261e-01, 3.05394801e-01, 2.96708622e-01, 2.88192771e-01,\n",
       "       2.79840697e-01, 2.71646218e-01, 2.63603498e-01, 2.55707017e-01,\n",
       "       2.47951552e-01, 2.40332155e-01, 2.32844134e-01, 2.25483034e-01,\n",
       "       2.18244625e-01, 2.11124884e-01, 2.04119983e-01, 1.97226275e-01,\n",
       "       1.90440285e-01, 1.83758700e-01, 1.77178355e-01, 1.70696227e-01,\n",
       "       1.64309429e-01, 1.58015195e-01, 1.51810883e-01, 1.45693958e-01,\n",
       "       1.39661993e-01, 1.33712661e-01, 1.27843727e-01, 1.22053048e-01,\n",
       "       1.16338565e-01, 1.10698297e-01, 1.05130343e-01, 9.96328713e-02,\n",
       "       9.42041196e-02, 8.88423913e-02, 8.35460515e-02, 7.83135245e-02,\n",
       "       7.31432911e-02, 6.80338853e-02, 6.29838925e-02, 5.79919470e-02,\n",
       "       5.30567293e-02, 4.81769647e-02, 4.33514208e-02, 3.85789059e-02,\n",
       "       3.38582673e-02, 2.91883891e-02, 2.45681915e-02, 1.99966284e-02,\n",
       "       1.54726867e-02, 1.09953843e-02, 6.56376950e-03, 2.17691925e-03])"
      ]
     },
     "execution_count": 143,
     "metadata": {},
     "output_type": "execute_result"
    }
   ],
   "source": [
    "loss_array"
   ]
  },
  {
   "cell_type": "code",
   "execution_count": 147,
   "id": "ea3fbad4-3108-439b-a87a-ab63c9749708",
   "metadata": {},
   "outputs": [],
   "source": [
    "colorArr = np.zeros([50,2*loss_array.size,3])\n",
    "for k in range(loss_array.size):\n",
    "    colorArr[:,2*k:2*k+2]=colorMap(loss_array[k])"
   ]
  },
  {
   "cell_type": "code",
   "execution_count": 148,
   "id": "71d898fe-2731-40cd-a50e-ddec8a172081",
   "metadata": {},
   "outputs": [
    {
     "data": {
      "text/plain": [
       "array([[[7.67009999e-01, 2.32990001e-01, 0.00000000e+00],\n",
       "        [7.67009999e-01, 2.32990001e-01, 0.00000000e+00],\n",
       "        [6.07969580e-01, 3.92030420e-01, 0.00000000e+00],\n",
       "        ...,\n",
       "        [2.18792317e-03, 9.97812077e-01, 0.00000000e+00],\n",
       "        [7.25639751e-04, 9.99274360e-01, 0.00000000e+00],\n",
       "        [7.25639751e-04, 9.99274360e-01, 0.00000000e+00]],\n",
       "\n",
       "       [[7.67009999e-01, 2.32990001e-01, 0.00000000e+00],\n",
       "        [7.67009999e-01, 2.32990001e-01, 0.00000000e+00],\n",
       "        [6.07969580e-01, 3.92030420e-01, 0.00000000e+00],\n",
       "        ...,\n",
       "        [2.18792317e-03, 9.97812077e-01, 0.00000000e+00],\n",
       "        [7.25639751e-04, 9.99274360e-01, 0.00000000e+00],\n",
       "        [7.25639751e-04, 9.99274360e-01, 0.00000000e+00]],\n",
       "\n",
       "       [[7.67009999e-01, 2.32990001e-01, 0.00000000e+00],\n",
       "        [7.67009999e-01, 2.32990001e-01, 0.00000000e+00],\n",
       "        [6.07969580e-01, 3.92030420e-01, 0.00000000e+00],\n",
       "        ...,\n",
       "        [2.18792317e-03, 9.97812077e-01, 0.00000000e+00],\n",
       "        [7.25639751e-04, 9.99274360e-01, 0.00000000e+00],\n",
       "        [7.25639751e-04, 9.99274360e-01, 0.00000000e+00]],\n",
       "\n",
       "       ...,\n",
       "\n",
       "       [[7.67009999e-01, 2.32990001e-01, 0.00000000e+00],\n",
       "        [7.67009999e-01, 2.32990001e-01, 0.00000000e+00],\n",
       "        [6.07969580e-01, 3.92030420e-01, 0.00000000e+00],\n",
       "        ...,\n",
       "        [2.18792317e-03, 9.97812077e-01, 0.00000000e+00],\n",
       "        [7.25639751e-04, 9.99274360e-01, 0.00000000e+00],\n",
       "        [7.25639751e-04, 9.99274360e-01, 0.00000000e+00]],\n",
       "\n",
       "       [[7.67009999e-01, 2.32990001e-01, 0.00000000e+00],\n",
       "        [7.67009999e-01, 2.32990001e-01, 0.00000000e+00],\n",
       "        [6.07969580e-01, 3.92030420e-01, 0.00000000e+00],\n",
       "        ...,\n",
       "        [2.18792317e-03, 9.97812077e-01, 0.00000000e+00],\n",
       "        [7.25639751e-04, 9.99274360e-01, 0.00000000e+00],\n",
       "        [7.25639751e-04, 9.99274360e-01, 0.00000000e+00]],\n",
       "\n",
       "       [[7.67009999e-01, 2.32990001e-01, 0.00000000e+00],\n",
       "        [7.67009999e-01, 2.32990001e-01, 0.00000000e+00],\n",
       "        [6.07969580e-01, 3.92030420e-01, 0.00000000e+00],\n",
       "        ...,\n",
       "        [2.18792317e-03, 9.97812077e-01, 0.00000000e+00],\n",
       "        [7.25639751e-04, 9.99274360e-01, 0.00000000e+00],\n",
       "        [7.25639751e-04, 9.99274360e-01, 0.00000000e+00]]],\n",
       "      shape=(50, 200, 3))"
      ]
     },
     "execution_count": 148,
     "metadata": {},
     "output_type": "execute_result"
    }
   ],
   "source": [
    "colorArr"
   ]
  },
  {
   "cell_type": "code",
   "execution_count": 153,
   "id": "02c36800-e26a-4285-a571-01b9c60ca186",
   "metadata": {},
   "outputs": [
    {
     "name": "stdout",
     "output_type": "stream",
     "text": [
      "100\n"
     ]
    },
    {
     "data": {
      "text/plain": [
       "array([[0.09890287, 0.90109713, 0.        ],\n",
       "       [0.09890287, 0.90109713, 0.        ]])"
      ]
     },
     "execution_count": 153,
     "metadata": {},
     "output_type": "execute_result"
    }
   ],
   "source": [
    "print(round(colorArr.shape[1]/2))\n",
    "colorArr[1:3,round(colorArr.shape[1]/2)]\n",
    "#middle should be [0.5,0.5,0]"
   ]
  },
  {
   "cell_type": "code",
   "execution_count": 149,
   "id": "6eee61d1-ebd3-4315-9c1e-f7ae638d6c44",
   "metadata": {},
   "outputs": [
    {
     "data": {
      "image/png": "[encoded data removed]",
      "text/plain": [
       "<Figure size 640x480 with 1 Axes>"
      ]
     },
     "metadata": {},
     "output_type": "display_data"
    }
   ],
   "source": [
    "plt.imshow(colorArr)\n",
    "plt.yticks([])\n",
    "plt.xticks([0,colorArr.shape[1]-1],[0,1])\n",
    "plt.xlabel(r'$\\sigma(z)$')\n",
    "plt.show()"
   ]
  },
  {
   "cell_type": "code",
   "execution_count": null,
   "id": "fe151ab5-5ca7-4155-9eab-57d6f7b02f20",
   "metadata": {},
   "outputs": [],
   "source": []
  }
 ],
 "metadata": {
  "kernelspec": {
   "display_name": "Python 3 (ipykernel)",
   "language": "python",
   "name": "python3"
  },
  "language_info": {
   "codemirror_mode": {
    "name": "ipython",
    "version": 3
   },
   "file_extension": ".py",
   "mimetype": "text/x-python",
   "name": "python",
   "nbconvert_exporter": "python",
   "pygments_lexer": "ipython3",
   "version": "3.13.2"
  }
 },
 "nbformat": 4,
 "nbformat_minor": 5
}
