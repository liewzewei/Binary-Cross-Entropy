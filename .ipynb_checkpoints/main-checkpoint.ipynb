{
 "cells": [
  {
   "cell_type": "markdown",
   "id": "5931abc7-f56f-48e9-9499-a76cbde6c9b5",
   "metadata": {},
   "source": [
    "# Binary Cross-Entropy\n",
    "The log loss, or binary cross entropy, is given by the following function.\n",
    "$$\\text{BCE}=-y\\log{\\left(\\sigma(z)\\right)}-(1-y)\\log{\\left(1-\\sigma(z)\\right)}$$\n",
    "Generate a colour map that shows how the log loss, aka Binary Cross Entropy (BCE), vary with different probabilities, $\\sigma(z)$, for a given label $y$."
   ]
  },
  {
   "cell_type": "code",
   "execution_count": 5,
   "id": "f47aad7e-4948-45e4-9262-4f4e39fe7102",
   "metadata": {},
   "outputs": [],
   "source": [
    "import matplotlib.pyplot as plt\n",
    "import numpy as np\n",
    "import math"
   ]
  },
  {
   "cell_type": "code",
   "execution_count": 11,
   "id": "187bd0a3-2d5f-411a-b0e3-e0d6508d2103",
   "metadata": {},
   "outputs": [],
   "source": [
    "def binaryCrossEntropy(label,probability):\n",
    "    y = label\n",
    "    x = probability\n",
    "    loss = -y*math.log(x)-(1-y)*math.log(1-x)\n",
    "    return loss"
   ]
  },
  {
   "cell_type": "code",
   "execution_count": 25,
   "id": "654c4b85-eace-4a00-8aeb-eb1879426e2c",
   "metadata": {},
   "outputs": [],
   "source": [
    "def colorMap(loss):\n",
    "    arr = np.zeros(3)\n",
    "    r = loss*255/5\n",
    "    g = 255-loss*255/5\n",
    "    #the divisor is 5 as we set the maximum of σ(z) as 0.99999, and its minimum as 0.00001\n",
    "    arr[0] = r\n",
    "    arr[1] = g\n",
    "    return arr"
   ]
  },
  {
   "cell_type": "code",
   "execution_count": 26,
   "id": "6e07a3c4-8eb6-4bf2-b90a-dfde9f9702f0",
   "metadata": {},
   "outputs": [],
   "source": [
    "a = binaryCrossEntropy(1,0.9)"
   ]
  },
  {
   "cell_type": "code",
   "execution_count": 39,
   "id": "7388b4c2-1c10-40c9-948b-7317d1b0028f",
   "metadata": {},
   "outputs": [],
   "source": [
    "nRows = 5\n",
    "nColumns = 5\n",
    "label = 1"
   ]
  },
  {
   "cell_type": "code",
   "execution_count": 43,
   "id": "a47a95a8-f7d5-4424-b5de-252cf9472a0c",
   "metadata": {},
   "outputs": [],
   "source": [
    "probability = np.zeros(nColumns)\n",
    "for i in range(nColumns):\n",
    "    probability[i]=1/nColumns*(i+1)-(1/nColumns)/2"
   ]
  },
  {
   "cell_type": "code",
   "execution_count": 44,
   "id": "ce5ebc5f-610a-4288-a540-1bf2a9a42980",
   "metadata": {},
   "outputs": [
    {
     "data": {
      "text/plain": [
       "array([0.1, 0.3, 0.5, 0.7, 0.9])"
      ]
     },
     "execution_count": 44,
     "metadata": {},
     "output_type": "execute_result"
    }
   ],
   "source": [
    "probability"
   ]
  },
  {
   "cell_type": "code",
   "execution_count": 57,
   "id": "bea13e94-5481-43f3-9ee1-70d8652167c7",
   "metadata": {},
   "outputs": [],
   "source": [
    "BCE_array = np.zeros(nRows)\n",
    "for j in range(nRows):\n",
    "    BCE_array[j]=binaryCrossEntropy(label,probability[j])"
   ]
  },
  {
   "cell_type": "code",
   "execution_count": 58,
   "id": "0dcc7c92-8022-4a67-b8ea-22a5ebeaacbb",
   "metadata": {},
   "outputs": [
    {
     "data": {
      "text/plain": [
       "array([2.30258509, 1.2039728 , 0.69314718, 0.35667494, 0.10536052])"
      ]
     },
     "execution_count": 58,
     "metadata": {},
     "output_type": "execute_result"
    }
   ],
   "source": [
    "BCE_array"
   ]
  },
  {
   "cell_type": "code",
   "execution_count": 61,
   "id": "dbbe76bd-879d-43d6-b3a7-d57c1ae84cf6",
   "metadata": {},
   "outputs": [],
   "source": [
    "#colorArr = np.zeros([nRows,1])\n",
    "#for k in range(nRows):\n",
    "    #colorArr[k,]=colorMap(BCE_array[k])"
   ]
  },
  {
   "cell_type": "code",
   "execution_count": null,
   "id": "ea3fbad4-3108-439b-a87a-ab63c9749708",
   "metadata": {},
   "outputs": [],
   "source": []
  }
 ],
 "metadata": {
  "kernelspec": {
   "display_name": "Python 3 (ipykernel)",
   "language": "python",
   "name": "python3"
  },
  "language_info": {
   "codemirror_mode": {
    "name": "ipython",
    "version": 3
   },
   "file_extension": ".py",
   "mimetype": "text/x-python",
   "name": "python",
   "nbconvert_exporter": "python",
   "pygments_lexer": "ipython3",
   "version": "3.13.2"
  }
 },
 "nbformat": 4,
 "nbformat_minor": 5
}
